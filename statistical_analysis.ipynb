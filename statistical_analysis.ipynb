{
 "cells": [
  {
   "cell_type": "markdown",
   "metadata": {},
   "source": [
    "# Статистический анализ данных"
   ]
  },
  {
   "cell_type": "markdown",
   "metadata": {},
   "source": [
    "*Приложение предназначено для проведения статистического анализа данных. Для корректной работы программы необходимо подгрузить Excel-файл с данными, которые могут содержать как численные, так и категориальные значения. Количество столбцов с параметрами неограничено.*"
   ]
  },
  {
   "cell_type": "code",
   "execution_count": null,
   "metadata": {},
   "outputs": [],
   "source": [
    "!pip install voila\n",
    "!jupyter serverextension enable --sys-prefix voila "
   ]
  },
  {
   "cell_type": "code",
   "execution_count": 2,
   "metadata": {},
   "outputs": [],
   "source": [
    "import warnings\n",
    "warnings.filterwarnings('ignore')\n",
    "\n",
    "import numpy as np\n",
    "import pandas as pd\n",
    "import ipywidgets as widgets\n",
    "from ipywidgets import VBox\n",
    "from ipywidgets.widgets.interaction import show_inline_matplotlib_plots\n",
    "import scipy.stats as st\n",
    "import seaborn as sns\n",
    "import matplotlib.pyplot as plt"
   ]
  },
  {
   "cell_type": "code",
   "execution_count": 3,
   "metadata": {},
   "outputs": [],
   "source": [
    "btn_upload = widgets.FileUpload(description = 'Загрузить')\n",
    "btn_run = widgets.Button(description = 'Сводные таблицы')\n",
    "btn_plot = widgets.Button(description = 'Построить графики')\n",
    "btn_clean = widgets.Button(description = 'Очистить')\n",
    "out_pl = widgets.Output()"
   ]
  },
  {
   "cell_type": "code",
   "execution_count": 4,
   "metadata": {},
   "outputs": [],
   "source": [
    "def on_click_tables(change):\n",
    "    try:\n",
    "        df = pd.read_excel(btn_upload.data[-1])\n",
    "\n",
    "        cat = [i for i in df.columns if df[i].dtype == 'O']\n",
    "\n",
    "        out_pl.clear_output()\n",
    "\n",
    "        with out_pl:\n",
    "\n",
    "            print(\"\\033[1m\" + 'Значения P10:' + \"\\033[0m\")\n",
    "            display(df.groupby(cat).agg(lambda x: st.t.ppf(0.10, df=len(x)-1, loc=np.mean(x), scale=st.sem(x))))\n",
    "            print(' ')\n",
    "\n",
    "            print(\"\\033[1m\" + 'Значения P50:' + \"\\033[0m\")\n",
    "            display(df.groupby(cat).agg(lambda x: st.t.ppf(0.50, df=len(x)-1, loc=np.mean(x), scale=st.sem(x))))\n",
    "            print(' ')\n",
    "\n",
    "            print(\"\\033[1m\" + 'Значения P90:' + \"\\033[0m\")\n",
    "            display(df.groupby(cat).agg(lambda x: st.t.ppf(0.90, df=len(x)-1, loc=np.mean(x), scale=st.sem(x))))\n",
    "            print(' ')\n",
    "    except:\n",
    "        out_pl.clear_output()\n",
    "        with out_pl: print('Вероятно, отсутствуют данные либо подгружен некорректный файл.')\n",
    "\n",
    "\n",
    "def on_click_graphs(change):\n",
    "    try:\n",
    "        df = pd.read_excel(btn_upload.data[-1])\n",
    "\n",
    "        num = [i for i in df.columns if df[i].dtype != 'O']\n",
    "\n",
    "        out_pl.clear_output()\n",
    "        with out_pl:\n",
    "            for i, j in enumerate(num):\n",
    "                fig = plt.figure(figsize=(7,4), clear = True)\n",
    "                x = df[j]\n",
    "                sns.distplot(x)\n",
    "                plt.axvline(st.t.ppf(0.10, df=len(x)-1, loc=np.mean(x), scale=st.sem(x)), c='red', label='P10')\n",
    "                plt.axvline(st.t.ppf(0.50, df=len(x)-1, loc=np.mean(x), scale=st.sem(x)), c='blue', label='P50')\n",
    "                plt.axvline(st.t.ppf(0.90, df=len(x)-1, loc=np.mean(x), scale=st.sem(x)), c='green', label='P90')\n",
    "                plt.legend(loc = 'upper right')\n",
    "            show_inline_matplotlib_plots()\n",
    "    except:\n",
    "        out_pl.clear_output()\n",
    "        with out_pl: print('Вероятно, отсутствуют данные либо подгружен некорректный файл.')\n",
    "        \n",
    "def on_click_clean(change):\n",
    "    out_pl.clear_output()\n",
    "\n",
    "btn_run.on_click(on_click_tables)\n",
    "btn_plot.on_click(on_click_graphs)\n",
    "btn_clean.on_click(on_click_clean)"
   ]
  },
  {
   "cell_type": "code",
   "execution_count": 5,
   "metadata": {
    "scrolled": false
   },
   "outputs": [
    {
     "data": {
      "application/vnd.jupyter.widget-view+json": {
       "model_id": "541b3bf984014d3bb01db3b5bee9ccc5",
       "version_major": 2,
       "version_minor": 0
      },
      "text/plain": [
       "VBox(children=(FileUpload(value={}, description='Загрузить'), Button(description='Сводные таблицы', style=Butt…"
      ]
     },
     "metadata": {},
     "output_type": "display_data"
    }
   ],
   "source": [
    "VBox([btn_upload, btn_run, btn_plot, btn_clean, out_pl])"
   ]
  }
 ],
 "metadata": {
  "kernelspec": {
   "display_name": "Python 3",
   "language": "python",
   "name": "python3"
  },
  "language_info": {
   "codemirror_mode": {
    "name": "ipython",
    "version": 3
   },
   "file_extension": ".py",
   "mimetype": "text/x-python",
   "name": "python",
   "nbconvert_exporter": "python",
   "pygments_lexer": "ipython3",
   "version": "3.8.5"
  }
 },
 "nbformat": 4,
 "nbformat_minor": 4
}
